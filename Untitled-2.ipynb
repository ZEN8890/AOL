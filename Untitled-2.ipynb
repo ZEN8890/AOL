{
 "cells": [
  {
   "cell_type": "code",
   "execution_count": 11,
   "metadata": {},
   "outputs": [
    {
     "name": "stdout",
     "output_type": "stream",
     "text": [
      "11.851851851851851\n",
      "17.185185185185183\n",
      "12.740740740740742\n"
     ]
    }
   ],
   "source": [
    "import numpy as np\n",
    "lowerlimit = -3\n",
    "upperlimit = 1\n",
    "split = 4\n",
    "\n",
    "def f(x):\n",
    "    return x**2+3*x+4\n",
    "\n",
    "width = (upperlimit-lowerlimit)/(split-1)\n",
    "x =np.linspace(lowerlimit,upperlimit,split)\n",
    "y = f(x)\n",
    "leftrieman = width * sum(y[:split-1])\n",
    "rightrieman = width * sum(y[1:])\n",
    "print(leftrieman)\n",
    "print(rightrieman)\n",
    "midpoint =(x[:split-1]+ x[1:])/2\n",
    "ymid = f(midpoint)\n",
    "midrieman = width * sum(ymid)\n",
    "print(midrieman)"
   ]
  },
  {
   "cell_type": "code",
   "execution_count": 7,
   "metadata": {},
   "outputs": [
    {
     "name": "stdout",
     "output_type": "stream",
     "text": [
      "14.518518518518519\n"
     ]
    }
   ],
   "source": [
    "import numpy as np\n",
    "lowerlimit = -3\n",
    "upperlimit = 1\n",
    "split = 4\n",
    "\n",
    "def f(x):\n",
    "    x**2+3*x+4\n",
    "width = (upperlimit - lowerlimit) / (split-1)\n",
    "x = np.linspace(lowerlimit,upperlimit,split)\n",
    "y = f(x)\n",
    "trapezoid = width/2 *(y[0]+y[split-1]+ 2* sum(y[1:split-1]))"
   ]
  }
 ],
 "metadata": {
  "kernelspec": {
   "display_name": "Python 3",
   "language": "python",
   "name": "python3"
  },
  "language_info": {
   "codemirror_mode": {
    "name": "ipython",
    "version": 3
   },
   "file_extension": ".py",
   "mimetype": "text/x-python",
   "name": "python",
   "nbconvert_exporter": "python",
   "pygments_lexer": "ipython3",
   "version": "3.11.6"
  },
  "orig_nbformat": 4
 },
 "nbformat": 4,
 "nbformat_minor": 2
}
