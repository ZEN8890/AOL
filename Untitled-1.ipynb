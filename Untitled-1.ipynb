{
 "cells": [
  {
   "cell_type": "code",
   "execution_count": 37,
   "metadata": {},
   "outputs": [],
   "source": [
    "import numpy as np"
   ]
  },
  {
   "cell_type": "code",
   "execution_count": 46,
   "metadata": {},
   "outputs": [],
   "source": [
    "def f(x):\n",
    "    return x**2-5;\n",
    "def bisectionMethod(a,b,tolerance):\n",
    "    if(np.sign(f(a))==np.sign (f(b))):\n",
    "        print(\"koordinasi tidak sesuai\")\n",
    "        return\n",
    "    c = (a+b)/2\n",
    "    if(np.abs(f(c))<tolerance):\n",
    "        print(f\"ditemukan persamaan akar: {c}\")\n",
    "        return\n",
    "    elif(np.sign(f(c))== np.sign(f(a))):\n",
    "        bisectionMethod(c,b,tolerance)\n",
    "    elif(np.sign(f(c))== np.sign(f(b))):\n",
    "        bisectionMethod(a,c,tolerance)\n",
    "        "
   ]
  },
  {
   "cell_type": "code",
   "execution_count": 47,
   "metadata": {},
   "outputs": [
    {
     "name": "stdout",
     "output_type": "stream",
     "text": [
      "ditemukan persamaan akar: 2.234375\n",
      "koordinasi tidak sesuai\n",
      "ditemukan persamaan akar: 2.25\n"
     ]
    }
   ],
   "source": [
    "bisectionMethod(2 , 5 , 0.1)\n",
    "bisectionMethod(3 , 10 , 0.1)\n",
    "bisectionMethod(-1 , 15 , 0.1)"
   ]
  },
  {
   "cell_type": "code",
   "execution_count": 58,
   "metadata": {},
   "outputs": [],
   "source": [
    "def f(x):\n",
    "    return x**2-5\n",
    "def g(x):\n",
    "    return 2*x\n",
    "def newtonraphsonmethode(x0,tolerance):\n",
    "        x1 = x0 - (f(x0) / g(x0))\n",
    "        if(np.abs(f(x1))<tolerance):\n",
    "            print(f\"ditemukan persamaan: {x1}\")\n",
    "            return\n",
    "        newtonraphsonmethode(x1,tolerance)"
   ]
  },
  {
   "cell_type": "code",
   "execution_count": 59,
   "metadata": {},
   "outputs": [
    {
     "name": "stdout",
     "output_type": "stream",
     "text": [
      "ditemukan persamaan akar: 2.25\n"
     ]
    }
   ],
   "source": [
    "newtonraphsonmethode(2 , 0.1)"
   ]
  }
 ],
 "metadata": {
  "kernelspec": {
   "display_name": "studysession",
   "language": "python",
   "name": "python3"
  },
  "language_info": {
   "codemirror_mode": {
    "name": "ipython",
    "version": 3
   },
   "file_extension": ".py",
   "mimetype": "text/x-python",
   "name": "python",
   "nbconvert_exporter": "python",
   "pygments_lexer": "ipython3",
   "version": "3.11.6"
  },
  "orig_nbformat": 4
 },
 "nbformat": 4,
 "nbformat_minor": 2
}
